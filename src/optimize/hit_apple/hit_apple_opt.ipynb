{
 "cells": [
  {
   "cell_type": "code",
   "execution_count": 13,
   "metadata": {},
   "outputs": [],
   "source": [
    "import numpy as np\n",
    "import matplotlib.pyplot as plt\n",
    "import scipy.optimize\n",
    "from scipy.interpolate import RegularGridInterpolator\n",
    "import copy\n",
    "import time\n",
    "import sys\n",
    "import os\n",
    "\n",
    "sys.path.append(os.path.abspath(os.path.join(os.path.dirname(os.getcwd()))))\n",
    "import opt_utils\n",
    "import importlib\n",
    "import trans_utils as T\n",
    "importlib.reload(opt_utils)\n",
    "importlib.reload(T)\n",
    "from scipy.constants import g"
   ]
  },
  {
   "cell_type": "code",
   "execution_count": null,
   "metadata": {},
   "outputs": [
    {
     "name": "stdout",
     "output_type": "stream",
     "text": [
      "c:\\Users\\ASUS\\UCSD\\LLM_Dynamic\\src\\optimize\n"
     ]
    }
   ],
   "source": [
    "scene_keypoints = np.array([[-0.28482594 , 0.18787911,  0.77047121],\n",
    " [-0.34903616,  0.1176751,   0.74915801],\n",
    " [-0.19674377, -0.15579415,  0.74643185],\n",
    " [-0.31491786, -0.1532551,   0.76248011],\n",
    " [-0.41689777, -0.15595002,  0.77874407]])\n",
    "\n",
    "ee_pos = np.array([-0.3224, -0.4216,  0.9030])\n",
    "ee_ori = np.array([ 0.4603,  0.5229, -0.4761,  0.5366]) #xyzw\n",
    "ee_pose = np.concatenate([ee_pos, ee_ori])\n",
    "\n",
    "# Assume same position pen and eef\n",
    "scene_keypoints[5] = ee_pos\n",
    "scene_keypoints[5][2] -= 0.05\n",
    "\n",
    "keypoints = np.concatenate([[ee_pos], scene_keypoints], axis=0)\n",
    "print(keypoints)"
   ]
  },
  {
   "cell_type": "code",
   "execution_count": null,
   "metadata": {},
   "outputs": [
    {
     "ename": "ModuleNotFoundError",
     "evalue": "No module named 'opt_utils'",
     "output_type": "error",
     "traceback": [
      "\u001b[1;31m---------------------------------------------------------------------------\u001b[0m",
      "\u001b[1;31mModuleNotFoundError\u001b[0m                       Traceback (most recent call last)",
      "Cell \u001b[1;32mIn[8], line 1\u001b[0m\n\u001b[1;32m----> 1\u001b[0m \u001b[38;5;28;01mimport\u001b[39;00m \u001b[38;5;21;01mopt_utils\u001b[39;00m\n\u001b[0;32m      2\u001b[0m \u001b[38;5;28;01mimport\u001b[39;00m \u001b[38;5;21;01mimportlib\u001b[39;00m\n\u001b[0;32m      3\u001b[0m \u001b[38;5;28;01mimport\u001b[39;00m \u001b[38;5;21;01mtrans_utils\u001b[39;00m \u001b[38;5;28;01mas\u001b[39;00m \u001b[38;5;21;01mT\u001b[39;00m\n",
      "\u001b[1;31mModuleNotFoundError\u001b[0m: No module named 'opt_utils'"
     ]
    }
   ],
   "source": []
  }
 ],
 "metadata": {
  "kernelspec": {
   "display_name": "base",
   "language": "python",
   "name": "python3"
  },
  "language_info": {
   "codemirror_mode": {
    "name": "ipython",
    "version": 3
   },
   "file_extension": ".py",
   "mimetype": "text/x-python",
   "name": "python",
   "nbconvert_exporter": "python",
   "pygments_lexer": "ipython3",
   "version": "3.12.3"
  }
 },
 "nbformat": 4,
 "nbformat_minor": 2
}
