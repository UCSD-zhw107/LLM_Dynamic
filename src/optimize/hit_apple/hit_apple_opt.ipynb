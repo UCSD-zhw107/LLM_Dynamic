{
 "cells": [
  {
   "cell_type": "code",
   "execution_count": 75,
   "metadata": {},
   "outputs": [],
   "source": [
    "import numpy as np\n",
    "import matplotlib.pyplot as plt\n",
    "import scipy.optimize\n",
    "from scipy.interpolate import RegularGridInterpolator\n",
    "import copy\n",
    "import time\n",
    "import sys\n",
    "import os\n",
    "\n",
    "sys.path.append(os.path.abspath(os.path.join(os.path.dirname(os.getcwd()))))\n",
    "import opt_utils\n",
    "import importlib\n",
    "import trans_utils as T\n",
    "importlib.reload(opt_utils)\n",
    "importlib.reload(T)\n",
    "from scipy.constants import g"
   ]
  },
  {
   "cell_type": "code",
   "execution_count": 142,
   "metadata": {},
   "outputs": [
    {
     "name": "stdout",
     "output_type": "stream",
     "text": [
      "[-0.13266497  1.54121929 -1.58026448]\n",
      "[[-0.50497994  0.18787911  0.92047121]\n",
      " [-0.28482594  0.18787911  0.77047121]\n",
      " [-0.34903616  0.1176751   0.74915801]\n",
      " [-0.50497994  0.18787911  0.87047121]\n",
      " [-0.39490294  0.18787911  0.87047121]\n",
      " [-0.28482594  0.18787911  0.87047121]]\n"
     ]
    }
   ],
   "source": [
    "scene_keypoints = np.array([[-0.28482594 , 0.18787911,  0.77047121],\n",
    " [-0.34903616,  0.1176751,   0.74915801],\n",
    " [-0.19674377, -0.15579415,  0.74643185],\n",
    " [-0.31491786, -0.1532551,   0.76248011],\n",
    " [-0.41689777, -0.15595002,  0.77874407]])\n",
    "\n",
    "\n",
    "ee_ori = np.array([ 0.4603,  0.5229, -0.4761,  0.5366]) #xyzw\n",
    "\n",
    "l = np.abs(scene_keypoints[4][0]) - np.abs(scene_keypoints[2][0])\n",
    "apple = scene_keypoints[0]\n",
    "hammer_head = apple + np.array([0,0,0.1])\n",
    "hammer_handle = hammer_head - np.array([l, 0, 0])\n",
    "hammer_mid = hammer_head - 0.5 * np.array([l, 0, 0])\n",
    "ee_pos = hammer_handle + np.array([0,0, 0.05])\n",
    "scene_keypoints[2] = hammer_handle\n",
    "scene_keypoints[3] = hammer_mid\n",
    "scene_keypoints[4] = hammer_head\n",
    "\n",
    "\n",
    "ee_pose = np.concatenate([ee_pos, ee_ori])\n",
    "print(T.quat2euler(ee_ori))\n",
    "keypoints = np.concatenate([[ee_pos], scene_keypoints], axis=0)\n",
    "print(keypoints)"
   ]
  },
  {
   "cell_type": "code",
   "execution_count": 77,
   "metadata": {},
   "outputs": [],
   "source": [
    "keypoint_movable_mask = np.zeros(keypoints.shape[0], dtype=bool)\n",
    "# ee\n",
    "keypoint_movable_mask[0] = True\n",
    "# hammer handle\n",
    "keypoint_movable_mask[3] = True\n",
    "# hammer head\n",
    "keypoint_movable_mask[5] = True\n",
    "keypoint_movable_mask[4] = True"
   ]
  },
  {
   "cell_type": "code",
   "execution_count": 78,
   "metadata": {},
   "outputs": [],
   "source": [
    "def objective(\n",
    "        opt_vars, # eef pose in world frame\n",
    "        og_bounds,\n",
    "        keypoints_ee, # keypoints in ee frame\n",
    "        keypoint_movable_mask,\n",
    "        goal_constraints,\n",
    "        path_constraints,\n",
    "        init_pose_homo):\n",
    "    \n",
    "    opt_sol = opt_utils.unnormalize_vars(opt_vars, og_bounds)\n",
    "    # Pose and Orientation\n",
    "    opt_pose_homo = T.pose2mat([opt_sol[:3], T.euler2quat(opt_sol[3:6])])\n",
    "    # Velocity\n",
    "    opt_vel = opt_sol[6:]\n",
    "\n",
    "    cost = 0.\n",
    "    \n",
    "    # Initial Cost\n",
    "    init_pose_cost = 1.0 * opt_utils.consistency(opt_pose_homo[None], init_pose_homo[None], rot_weight=1.5)\n",
    "    cost += init_pose_cost\n",
    "\n",
    "    # subgoal constraint violation cost\n",
    "    if goal_constraints is not None and len(goal_constraints) > 0:\n",
    "        subgoal_constraint_cost = 0\n",
    "        transformed_keypoints = opt_utils.transform_keypoints(opt_pose_homo, keypoints_ee, keypoint_movable_mask)\n",
    "        subgoal_violation = []\n",
    "        for constraint in goal_constraints:\n",
    "            violation = constraint(transformed_keypoints[0], transformed_keypoints[1:], opt_vel)\n",
    "            subgoal_violation.append(violation)\n",
    "            subgoal_constraint_cost += np.clip(violation, 0, np.inf)\n",
    "        subgoal_constraint_cost = 200.0*subgoal_constraint_cost\n",
    "        cost += subgoal_constraint_cost\n",
    "    \n",
    "    # path constraint violation cost\n",
    "    if path_constraints is not None and len(path_constraints) > 0:\n",
    "        path_constraint_cost = 0\n",
    "        transformed_keypoints = opt_utils.transform_keypoints(opt_pose_homo, keypoints_ee, keypoint_movable_mask)\n",
    "        path_violation = []\n",
    "        for constraint in path_constraints:\n",
    "            violation = constraint(transformed_keypoints[0], transformed_keypoints[1:], opt_vel)\n",
    "            path_violation.append(violation)\n",
    "            path_constraint_cost += np.clip(violation, 0, np.inf)\n",
    "        path_constraint_cost = 200.0*path_constraint_cost\n",
    "        cost += path_constraint_cost\n",
    "    return cost\n",
    "    "
   ]
  },
  {
   "cell_type": "code",
   "execution_count": 79,
   "metadata": {},
   "outputs": [],
   "source": [
    "ee_pose_homo = T.pose2mat([ee_pose[:3], ee_pose[3:]])\n",
    "ee_pose_euler = np.concatenate([ee_pose[:3], T.quat2euler(ee_pose[3:])])\n",
    "ee_pose_euler_vel = np.concatenate([ee_pose_euler, np.zeros(3)])\n",
    "\n",
    "pos_bounds_min = [-0.45, -0.75, 0.698] #From config\n",
    "pos_bounds_max = [0.2, 0.60, 1.2]\n",
    "rot_bounds_min = np.array([-np.pi, -np.pi, -np.pi])  # euler angles\n",
    "rot_bounds_max = np.array([np.pi, np.pi, np.pi])  # euler angles\n",
    "vel_bounds_min = np.array([0.0, 0.0, 0.0])\n",
    "vel_bounds_max = np.array([3.0, 0.1, 3.0])\n",
    "og_bounds = [(b_min, b_max) for b_min, b_max in zip(np.concatenate([pos_bounds_min, rot_bounds_min, vel_bounds_min]), np.concatenate([pos_bounds_max, rot_bounds_max, vel_bounds_max]))]\n",
    "bounds = [(-1, 1)] * len(og_bounds)\n",
    "\n",
    "init_sol = opt_utils.normalize_vars(ee_pose_euler_vel, og_bounds)\n",
    "\n",
    "# Center KeyPoints(world to ee frame)\n",
    "centering_transform = np.linalg.inv(ee_pose_homo)\n",
    "keypoints_ee = opt_utils.transform_keypoints(centering_transform, keypoints, keypoint_movable_mask)"
   ]
  },
  {
   "cell_type": "code",
   "execution_count": 131,
   "metadata": {},
   "outputs": [],
   "source": [
    "def stage3_subgoal_constraint1(eef_pose, keypoints, eef_velocity):\n",
    "    \"\"\"\n",
    "    Constraint: The hammer head (keypoint[4]) must contact the apple (keypoint[0]).\n",
    "    The cost is the squared Euclidean distance between keypoint[4] and keypoint[0], minus epsilon squared.\n",
    "    Constraint is satisfied if cost <= 0.\n",
    "    \"\"\"\n",
    "    cost = np.sum((keypoints[4] - keypoints[0])**2)  \n",
    "    return cost\n",
    "\n",
    "def stage3_subgoal_constraint2(eef_pose, keypoints, eef_velocity):\n",
    "    \"\"\"\n",
    "    Constraint: The hammer head must have sufficient velocity towards the apple at the moment of impact.\n",
    "    The cost is the desired minimum velocity minus the actual velocity towards the apple.\n",
    "    Constraint is satisfied if cost <= 0.\n",
    "    \"\"\"\n",
    "    # Direction vector from hammer head to apple\n",
    "    direction_vector = keypoints[0] - keypoints[4]\n",
    "    direction_unit_vector = direction_vector / (np.linalg.norm(direction_vector) + 1e-8)\n",
    "    # Approximate hammer head velocity as the end-effector velocity\n",
    "    hammer_head_velocity = eef_velocity\n",
    "    velocity_towards_apple = np.dot(hammer_head_velocity, direction_unit_vector)\n",
    "    cost = 0.5 - velocity_towards_apple\n",
    "    return cost\n",
    "\n",
    "### Stage 3 path constraints\n",
    "\n",
    "\n",
    "def stage3_path_constraint1(eef_pose, keypoints, eef_velocity):\n",
    "    \"\"\"\n",
    "    Path Constraint: The hammer head must remain aligned with the intended swinging direction.\n",
    "    The cost is the squared difference between the cosine of the angle and 1 (cos(0) = 1), minus epsilon squared.\n",
    "    Constraint is satisfied if cost <= 0.\n",
    "    \"\"\"\n",
    "    hammer_vector = keypoints[4] - keypoints[2]  # Hammer orientation\n",
    "    swing_direction = keypoints[0] - keypoints[4]  # Direction to apple\n",
    "    hammer_vector_norm = hammer_vector / (np.linalg.norm(hammer_vector) + 1e-8)\n",
    "    swing_direction_norm = swing_direction / (np.linalg.norm(swing_direction) + 1e-8)\n",
    "    cos_theta = np.dot(hammer_vector_norm, swing_direction_norm)\n",
    "    cost = (cos_theta - 1.0)**2 \n",
    "    return cost\n",
    "\n",
    "\n",
    "goal_constraints = [stage3_subgoal_constraint1, stage3_subgoal_constraint2]\n",
    "path_constraints = [stage3_path_constraint1]"
   ]
  },
  {
   "cell_type": "code",
   "execution_count": 121,
   "metadata": {},
   "outputs": [],
   "source": [
    "def stage3_subgoal_constraint1(eef_pose, keypoints, eef_velocity):\n",
    "    \"\"\"\n",
    "    The hammer head should make contact with the apple at impact.\n",
    "    The cost is the distance between the hammer head and the apple.\n",
    "    Constraint is satisfied when cost is close to zero.\n",
    "    \"\"\"\n",
    "    hammer_vector = keypoints[4] - keypoints[2]\n",
    "    hammer_head_pose = eef_pose + hammer_vector\n",
    "    cost = np.linalg.norm(hammer_head_pose - keypoints[0])\n",
    "    return cost\n",
    "\n",
    "\n",
    "\n",
    "def stage3_subgoal_constraint2(eef_pose, keypoints, eef_velocity):\n",
    "    \"\"\"\n",
    "    The hammer head should hit the apple with desired impact velocity.\n",
    "    The cost is the difference between desired and actual velocity towards the apple.\n",
    "    Constraint is satisfied when cost is less than or equal to zero.\n",
    "    \"\"\"\n",
    "    hammer_vector = keypoints[4] - keypoints[2]\n",
    "    hammer_head_pose = eef_pose + hammer_vector\n",
    "    # Direction from hammer head to apple\n",
    "    direction = keypoints[0] - hammer_head_pose\n",
    "    direction_normalized = direction / np.linalg.norm(direction)\n",
    "    # Assume hammer head velocity equals eef_velocity\n",
    "    velocity_towards_apple = np.dot(eef_velocity, direction_normalized)\n",
    "    v_desired = 1.0  # Desired impact speed in meters per second\n",
    "    cost = v_desired - velocity_towards_apple  # Constraint satisfied when velocity_towards_apple >= v_desired\n",
    "    return cost\n",
    "\n",
    "\n",
    "### Stage 3 Path Constraints\n",
    "\n",
    "\n",
    "\n",
    "def stage3_path_constraint2(eef_pose, keypoints, eef_velocity):\n",
    "    \"\"\"\n",
    "    Hammer head remains aligned with the intended swing direction during the swing.\n",
    "    The cost is minimized when the hammer orientation aligns with the swing direction.\n",
    "    \"\"\"\n",
    "    hammer_vector = keypoints[4] - keypoints[2]\n",
    "    hammer_vector_normalized = hammer_vector / np.linalg.norm(hammer_vector)\n",
    "    hammer_head_pose = eef_pose + hammer_vector\n",
    "    # Swing direction vector from hammer head to apple\n",
    "    swing_direction = keypoints[0] - hammer_head_pose\n",
    "    swing_direction_normalized = swing_direction / np.linalg.norm(swing_direction)\n",
    "    # Cost based on alignment\n",
    "    dot_product = np.dot(hammer_vector_normalized, swing_direction_normalized)\n",
    "    cost = 1 - dot_product\n",
    "    return cost\n",
    "\n",
    "\n",
    "goal_constraints = [stage3_subgoal_constraint1, stage3_subgoal_constraint2]\n",
    "path_constraints = [stage3_path_constraint1]"
   ]
  },
  {
   "cell_type": "code",
   "execution_count": 132,
   "metadata": {},
   "outputs": [],
   "source": [
    "aux_args = (og_bounds,\n",
    "            keypoints_ee,\n",
    "            keypoint_movable_mask,\n",
    "            goal_constraints,\n",
    "            path_constraints,\n",
    "            ee_pose_homo)"
   ]
  },
  {
   "cell_type": "code",
   "execution_count": 133,
   "metadata": {},
   "outputs": [],
   "source": [
    "global_opt_result = scipy.optimize.dual_annealing(\n",
    "                func=objective,\n",
    "                bounds=bounds,\n",
    "                args=aux_args,\n",
    "                maxfun=5000,\n",
    "                x0=init_sol,\n",
    "                no_local_search=False,\n",
    "                minimizer_kwargs={\n",
    "                    'method': 'SLSQP',\n",
    "                    'options': {'maxiter': 200}\n",
    "                },\n",
    "            )"
   ]
  },
  {
   "cell_type": "code",
   "execution_count": 134,
   "metadata": {},
   "outputs": [
    {
     "name": "stdout",
     "output_type": "stream",
     "text": [
      "[-0.38165899 -0.05647484  0.82037235 -0.0493054   1.45510888 -0.27478346\n",
      "  1.75386962  0.08818118  1.56544495]\n"
     ]
    }
   ],
   "source": [
    "global_sol = opt_utils.unnormalize_vars(global_opt_result.x, og_bounds)\n",
    "print(global_sol)"
   ]
  },
  {
   "cell_type": "code",
   "execution_count": 135,
   "metadata": {},
   "outputs": [],
   "source": [
    "# Might need to update aux_args\n",
    "gradient_opt_result = scipy.optimize.minimize(\n",
    "                fun=objective,\n",
    "                x0=global_sol,\n",
    "                args=aux_args,\n",
    "                bounds=bounds,\n",
    "                method='SLSQP',\n",
    "                options={'maxiter': 200},\n",
    "            )"
   ]
  },
  {
   "cell_type": "code",
   "execution_count": 136,
   "metadata": {},
   "outputs": [
    {
     "name": "stdout",
     "output_type": "stream",
     "text": [
      "[-0.44376115  0.04683019  0.84673951  2.66612832 -3.12018935  2.54172689\n",
      "  2.62224217  0.09470423  0.13298365]\n"
     ]
    }
   ],
   "source": [
    "gradient_sol = opt_utils.unnormalize_vars(gradient_opt_result.x, og_bounds)\n",
    "print(gradient_sol)"
   ]
  },
  {
   "cell_type": "code",
   "execution_count": null,
   "metadata": {},
   "outputs": [
    {
     "name": "stdout",
     "output_type": "stream",
     "text": [
      "[ 0.1179431   0.16967617 -0.07594213]\n"
     ]
    }
   ],
   "source": [
    "# Final EEF Pose in world frame\n",
    "final_pose_homo = T.pose2mat([gradient_sol[:3], T.euler2quat(gradient_sol[3:6])])\n",
    "# Convert movable keypoints from eef frame back to world frame: final keypoints position in world frame\n",
    "final_keypoints = opt_utils.transform_keypoints(final_pose_homo, keypoints_ee, keypoint_movable_mask)\n",
    "final_hammer_head = final_keypoints[5]\n",
    "final_hammer_handle = final_keypoints[3]\n",
    "final_hammer_vec = final_hammer_head - final_hammer_handle\n",
    "print(final_hammer_vec)"
   ]
  }
 ],
 "metadata": {
  "kernelspec": {
   "display_name": "base",
   "language": "python",
   "name": "python3"
  },
  "language_info": {
   "codemirror_mode": {
    "name": "ipython",
    "version": 3
   },
   "file_extension": ".py",
   "mimetype": "text/x-python",
   "name": "python",
   "nbconvert_exporter": "python",
   "pygments_lexer": "ipython3",
   "version": "3.12.3"
  }
 },
 "nbformat": 4,
 "nbformat_minor": 2
}
