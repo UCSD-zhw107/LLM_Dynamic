{
 "cells": [
  {
   "cell_type": "code",
   "execution_count": 52,
   "id": "initial_id",
   "metadata": {
    "ExecuteTime": {
     "end_time": "2025-02-19T11:35:00.818290Z",
     "start_time": "2025-02-19T11:34:58.595343Z"
    },
    "collapsed": true
   },
   "outputs": [],
   "source": [
    "import numpy as np\n",
    "import matplotlib.pyplot as plt\n",
    "import scipy.optimize\n",
    "from scipy.interpolate import RegularGridInterpolator\n",
    "import copy\n",
    "import time\n",
    "import opt_utils\n",
    "import importlib\n",
    "import trans_utils as T\n",
    "importlib.reload(opt_utils)\n",
    "importlib.reload(T)\n",
    "from scipy.constants import g"
   ]
  },
  {
   "cell_type": "code",
   "execution_count": 101,
   "id": "18b0921e4cb7fd6a",
   "metadata": {},
   "outputs": [
    {
     "name": "stdout",
     "output_type": "stream",
     "text": [
      "[[-0.418      -0.128       0.906     ]\n",
      " [-0.25255756  0.16720406  0.68192867]\n",
      " [-0.3970938   0.12950217  0.68181886]\n",
      " [ 0.5319556   0.21342507  0.66371404]\n",
      " [-0.28037292  0.09597062  0.70344591]\n",
      " [-0.26905417  0.00379744  0.71206252]\n",
      " [-0.418      -0.128       0.856     ]\n",
      " [-0.23855288 -0.23952204  0.68195394]]\n"
     ]
    }
   ],
   "source": [
    "scene_keypoints = np.array([[-0.25255756, 0.16720406 ,0.68192867],\n",
    " [-0.3970938 ,0.12950217 ,0.68181886],\n",
    " [ 0.5319556, 0.21342507,0.66371404],\n",
    " [-0.28037292,0.09597062 ,0.70344591],\n",
    " [-0.26905417 ,0.00379744 ,0.71206252],\n",
    " [ 1.10996314 ,-0.12611511,  0.62799189],\n",
    " [-0.23855288 ,-0.23952204 , 0.68195394]])\n",
    "\n",
    "ee_pos = np.array([-0.4180, -0.1280,  0.9060])\n",
    "ee_ori = np.array([ 0.4699,  0.5198, -0.4747,  0.5326]) #xyzw\n",
    "ee_pose = np.concatenate([ee_pos, ee_ori])\n",
    "\n",
    "# Assume same position pen and eef\n",
    "scene_keypoints[5] = ee_pos\n",
    "scene_keypoints[5][2] -= 0.05\n",
    "\n",
    "keypoints = np.concatenate([[ee_pos], scene_keypoints], axis=0)\n",
    "print(keypoints)"
   ]
  },
  {
   "cell_type": "code",
   "execution_count": 102,
   "id": "598c864a",
   "metadata": {},
   "outputs": [],
   "source": [
    "keypoint_movable_mask = np.zeros(keypoints.shape[0], dtype=bool)\n",
    "# ee\n",
    "keypoint_movable_mask[0] = True\n",
    "# pen\n",
    "keypoint_movable_mask[5] = True"
   ]
  },
  {
   "cell_type": "code",
   "execution_count": 55,
   "id": "97b391ab",
   "metadata": {},
   "outputs": [],
   "source": [
    "def objective(\n",
    "        opt_vars, # eef pose in world frame\n",
    "        og_bounds,\n",
    "        keypoints_ee, # keypoints in ee frame\n",
    "        keypoint_movable_mask,\n",
    "        goal_constraints,\n",
    "        path_constraints,\n",
    "        init_pose_homo):\n",
    "    \n",
    "    opt_sol = opt_utils.unnormalize_vars(opt_vars, og_bounds)\n",
    "    # Pose and Orientation\n",
    "    opt_pose_homo = T.pose2mat([opt_sol[:3], T.euler2quat(opt_sol[3:6])])\n",
    "    # Velocity\n",
    "    opt_vel = opt_sol[6:]\n",
    "\n",
    "    cost = 0.\n",
    "    \n",
    "    # Initial Cost\n",
    "    init_pose_cost = 1.0 * opt_utils.consistency(opt_pose_homo[None], init_pose_homo[None], rot_weight=1.5)\n",
    "    cost += init_pose_cost\n",
    "\n",
    "    # subgoal constraint violation cost\n",
    "    if goal_constraints is not None and len(goal_constraints) > 0:\n",
    "        subgoal_constraint_cost = 0\n",
    "        transformed_keypoints = opt_utils.transform_keypoints(opt_pose_homo, keypoints_ee, keypoint_movable_mask)\n",
    "        subgoal_violation = []\n",
    "        for constraint in goal_constraints:\n",
    "            violation = constraint(transformed_keypoints[0], transformed_keypoints[1:], opt_vel)\n",
    "            subgoal_violation.append(violation)\n",
    "            subgoal_constraint_cost += np.clip(violation, 0, np.inf)\n",
    "        subgoal_constraint_cost = 200.0*subgoal_constraint_cost\n",
    "        cost += subgoal_constraint_cost\n",
    "    \n",
    "    # path constraint violation cost\n",
    "    if path_constraints is not None and len(path_constraints) > 0:\n",
    "        path_constraint_cost = 0\n",
    "        transformed_keypoints = opt_utils.transform_keypoints(opt_pose_homo, keypoints_ee, keypoint_movable_mask)\n",
    "        path_violation = []\n",
    "        for constraint in path_constraints:\n",
    "            violation = constraint(transformed_keypoints[0], transformed_keypoints[1:], opt_vel)\n",
    "            path_violation.append(violation)\n",
    "            path_constraint_cost += np.clip(violation, 0, np.inf)\n",
    "        path_constraint_cost = 200.0*path_constraint_cost\n",
    "        cost += path_constraint_cost\n",
    "    return cost\n",
    "    \n",
    "    "
   ]
  },
  {
   "cell_type": "code",
   "execution_count": 114,
   "id": "5ebd2552",
   "metadata": {},
   "outputs": [],
   "source": [
    "ee_pose_homo = T.pose2mat([ee_pose[:3], ee_pose[3:]])\n",
    "ee_pose_euler = np.concatenate([ee_pose[:3], T.quat2euler(ee_pose[3:])])\n",
    "ee_pose_euler_vel = np.concatenate([ee_pose_euler, np.zeros(3)])\n",
    "\n",
    "pos_bounds_min = [-0.45, -0.75, 0.698] #From config\n",
    "pos_bounds_max = [0.2, 0.60, 1.2]\n",
    "rot_bounds_min = np.array([-np.pi, -np.pi, -np.pi])  # euler angles\n",
    "rot_bounds_max = np.array([np.pi, np.pi, np.pi])  # euler angles\n",
    "vel_bounds_min = np.array([0.0, 0.0, 0.0])\n",
    "vel_bounds_max = np.array([8.0, 0.1, 8.0])\n",
    "og_bounds = [(b_min, b_max) for b_min, b_max in zip(np.concatenate([pos_bounds_min, rot_bounds_min, vel_bounds_min]), np.concatenate([pos_bounds_max, rot_bounds_max, vel_bounds_max]))]\n",
    "bounds = [(-1, 1)] * len(og_bounds)\n",
    "\n",
    "\n",
    "\n",
    "\n",
    "init_sol = opt_utils.normalize_vars(ee_pose_euler_vel, og_bounds)\n",
    "\n",
    "# Center KeyPoints(world to ee frame)\n",
    "centering_transform = np.linalg.inv(ee_pose_homo)\n",
    "keypoints_ee = opt_utils.transform_keypoints(centering_transform, keypoints, keypoint_movable_mask)"
   ]
  },
  {
   "cell_type": "code",
   "execution_count": 104,
   "id": "25365c98",
   "metadata": {},
   "outputs": [],
   "source": [
    "### Stage 3 sub-goal constraints\n",
    "def stage3_subgoal_constraint1(eef_pose, keypoints, eef_velocity):\n",
    "    \"\"\"Ensure the pen follows a parabolic trajectory to land in the trash bin.\"\"\"\n",
    "    dx = keypoints[5][0] - eef_pose[0]\n",
    "    dy = keypoints[5][1] - eef_pose[1]\n",
    "    dz = keypoints[5][2] - eef_pose[2]\n",
    "    ds = np.sqrt(dx**2 + dy**2)\n",
    "    v_horizontal = np.sqrt(eef_velocity[0]**2 + eef_velocity[1]**2) + 1e-6  # Add epsilon\n",
    "    t = ds / v_horizontal\n",
    "    z_predict = eef_pose[2] + eef_velocity[2] * t - 0.5 * g * t**2\n",
    "    cost = (z_predict - keypoints[5][2])**2 - 1e-4  # Small tolerance delta\n",
    "    return cost\n",
    "\n",
    "def stage3_subgoal_constraint2(eef_pose, keypoints, eef_velocity):\n",
    "    \"\"\"Ensure the horizontal velocity vector is aligned with the target direction.\"\"\"\n",
    "    dx = keypoints[5][0] - eef_pose[0]\n",
    "    dy = keypoints[5][1] - eef_pose[1]\n",
    "    cost = (eef_velocity[0] * dy - eef_velocity[1] * dx)**2 - 1e-4  # Small tolerance delta\n",
    "    return cost\n",
    "\n",
    "def stage3_subgoal_constraint3(eef_pose, keypoints, eef_velocity):\n",
    "    \"\"\"Throw the pen at a 45-degree upward angle.\"\"\"\n",
    "    v_magnitude = np.sqrt(eef_velocity[0]**2 + eef_velocity[1]**2 + eef_velocity[2]**2) + 1e-6  # Add epsilon\n",
    "    v_horizontal = np.sqrt(eef_velocity[0]**2 + eef_velocity[1]**2)\n",
    "    cos_theta = v_horizontal / v_magnitude\n",
    "    desired_cos_theta = np.sqrt(2) / 2  # cos(45 degrees)\n",
    "    cost = (cos_theta - desired_cos_theta)**2 - 1e-4  # Small tolerance delta\n",
    "    return cost\n",
    "\n",
    "\n",
    "def stage3_path_constraint1(eef_pose, keypoints, eef_velocity):\n",
    "    \"\"\"The pen should keep aligned with the intended throwing direction during execution.\"\"\"\n",
    "    dx = keypoints[5][0] - eef_pose[0]\n",
    "    dy = keypoints[5][1] - eef_pose[1]\n",
    "    cost = (eef_velocity[0] * dy - eef_velocity[1] * dx)**2 - 1e-4  # Small tolerance delta\n",
    "    return cost\n",
    "\n",
    "goal_constraints = [stage3_subgoal_constraint1, stage3_subgoal_constraint2, stage3_subgoal_constraint3]\n",
    "path_constraints = [stage3_path_constraint1]"
   ]
  },
  {
   "cell_type": "code",
   "execution_count": 115,
   "id": "d48d51a6",
   "metadata": {},
   "outputs": [],
   "source": [
    "aux_args = (og_bounds,\n",
    "            keypoints_ee,\n",
    "            keypoint_movable_mask,\n",
    "            goal_constraints,\n",
    "            path_constraints,\n",
    "            ee_pose_homo)"
   ]
  },
  {
   "cell_type": "code",
   "execution_count": 116,
   "id": "cb369b31",
   "metadata": {},
   "outputs": [],
   "source": [
    "global_opt_result = scipy.optimize.dual_annealing(\n",
    "                func=objective,\n",
    "                bounds=bounds,\n",
    "                args=aux_args,\n",
    "                maxfun=5000,\n",
    "                x0=init_sol,\n",
    "                no_local_search=False,\n",
    "                minimizer_kwargs={\n",
    "                    'method': 'SLSQP',\n",
    "                    'options': {'maxiter': 200}\n",
    "                },\n",
    "            )"
   ]
  },
  {
   "cell_type": "code",
   "execution_count": 117,
   "id": "f5ebe9c7",
   "metadata": {},
   "outputs": [
    {
     "name": "stdout",
     "output_type": "stream",
     "text": [
      "[-0.41802413 -0.12799517  0.86596932  0.37263224  1.55146303 -1.09030665\n",
      "  6.81486977  0.04520776  6.90674672]\n"
     ]
    }
   ],
   "source": [
    "global_sol = opt_utils.unnormalize_vars(global_opt_result.x, og_bounds)\n",
    "print(global_sol)"
   ]
  },
  {
   "cell_type": "code",
   "execution_count": 118,
   "id": "a9474330",
   "metadata": {},
   "outputs": [],
   "source": [
    "# Might need to update aux_args\n",
    "gradient_opt_result = scipy.optimize.minimize(\n",
    "                fun=objective,\n",
    "                x0=global_sol,\n",
    "                args=aux_args,\n",
    "                bounds=bounds,\n",
    "                method='SLSQP',\n",
    "                options={'maxiter': 200},\n",
    "            )"
   ]
  },
  {
   "cell_type": "code",
   "execution_count": 119,
   "id": "be423e2d",
   "metadata": {},
   "outputs": [
    {
     "name": "stdout",
     "output_type": "stream",
     "text": [
      "[-0.4175907  -0.12606892  0.86412664  3.14159265 -3.14159265 -3.14159265\n",
      "  0.58536177  0.03727436  0.57318223]\n"
     ]
    }
   ],
   "source": [
    "gradient_sol = opt_utils.unnormalize_vars(gradient_opt_result.x, og_bounds)\n",
    "print(gradient_sol)"
   ]
  }
 ],
 "metadata": {
  "kernelspec": {
   "display_name": "base",
   "language": "python",
   "name": "python3"
  },
  "language_info": {
   "codemirror_mode": {
    "name": "ipython",
    "version": 3
   },
   "file_extension": ".py",
   "mimetype": "text/x-python",
   "name": "python",
   "nbconvert_exporter": "python",
   "pygments_lexer": "ipython3",
   "version": "3.12.3"
  }
 },
 "nbformat": 4,
 "nbformat_minor": 5
}
